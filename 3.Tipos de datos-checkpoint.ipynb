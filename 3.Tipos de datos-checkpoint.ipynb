{
 "cells": [
  {
   "cell_type": "code",
   "execution_count": 1,
   "id": "f1654741-cb89-48ad-8a1e-0ca5a283f333",
   "metadata": {},
   "outputs": [],
   "source": [
    "import numpy as np"
   ]
  },
  {
   "cell_type": "code",
   "execution_count": 4,
   "id": "522708ca-6423-479a-9b2d-6ab55c51673f",
   "metadata": {},
   "outputs": [
    {
     "data": {
      "text/plain": [
       "array([1, 2, 3, 4])"
      ]
     },
     "execution_count": 4,
     "metadata": {},
     "output_type": "execute_result"
    }
   ],
   "source": [
    "arr = np.array(list(range(1, 5)))\n",
    "arr"
   ]
  },
  {
   "cell_type": "markdown",
   "id": "1bd83cae-950b-4f9d-bfbe-b9c3b853420d",
   "metadata": {},
   "source": [
    "### dtype\n",
    "\n",
    "+ dtype es para saber que tipo de dato esta manejando dicho array"
   ]
  },
  {
   "cell_type": "code",
   "execution_count": 6,
   "id": "97fa10c4-e8ea-491f-aa14-a6753ea99795",
   "metadata": {},
   "outputs": [
    {
     "data": {
      "text/plain": [
       "dtype('int32')"
      ]
     },
     "execution_count": 6,
     "metadata": {},
     "output_type": "execute_result"
    }
   ],
   "source": [
    "arr.dtype"
   ]
  },
  {
   "cell_type": "markdown",
   "id": "3791b573-5e55-4695-9463-65700f7e16eb",
   "metadata": {},
   "source": [
    "### Cambiando el tipo de dato de un array"
   ]
  },
  {
   "cell_type": "code",
   "execution_count": 8,
   "id": "0c1a0c96-068a-40f4-8e49-e7aa7169f77b",
   "metadata": {},
   "outputs": [
    {
     "data": {
      "text/plain": [
       "array([1., 2., 3., 4.])"
      ]
     },
     "execution_count": 8,
     "metadata": {},
     "output_type": "execute_result"
    }
   ],
   "source": [
    "arr = np.array(list(range(1, 5)), dtype=\"float64\")\n",
    "arr"
   ]
  },
  {
   "cell_type": "code",
   "execution_count": 9,
   "id": "233f50d8-c222-4515-b026-f4792670c216",
   "metadata": {},
   "outputs": [
    {
     "data": {
      "text/plain": [
       "array([1, 2, 3, 4])"
      ]
     },
     "execution_count": 9,
     "metadata": {},
     "output_type": "execute_result"
    }
   ],
   "source": [
    "arr = np.array(list(range(1, 5)))\n",
    "arr"
   ]
  },
  {
   "cell_type": "code",
   "execution_count": 10,
   "id": "b98b9986-c5e7-4ff3-96fd-ce61fab7c187",
   "metadata": {},
   "outputs": [
    {
     "data": {
      "text/plain": [
       "array([1., 2., 3., 4.])"
      ]
     },
     "execution_count": 10,
     "metadata": {},
     "output_type": "execute_result"
    }
   ],
   "source": [
    "arr.astype(np.float64)"
   ]
  },
  {
   "cell_type": "code",
   "execution_count": 12,
   "id": "89d22315-9c06-4acc-8c2d-061d2604b8aa",
   "metadata": {},
   "outputs": [
    {
     "data": {
      "text/plain": [
       "array([ True,  True,  True,  True])"
      ]
     },
     "execution_count": 12,
     "metadata": {},
     "output_type": "execute_result"
    }
   ],
   "source": [
    "arr.astype(np.bool_)"
   ]
  },
  {
   "cell_type": "code",
   "execution_count": 13,
   "id": "008a6b5a-c559-4d4e-8319-55f11140ec07",
   "metadata": {},
   "outputs": [
    {
     "data": {
      "text/plain": [
       "array([b'1', b'2', b'3', b'4'], dtype='|S11')"
      ]
     },
     "execution_count": 13,
     "metadata": {},
     "output_type": "execute_result"
    }
   ],
   "source": [
    "arr.astype(np.string_)"
   ]
  },
  {
   "cell_type": "code",
   "execution_count": 17,
   "id": "c4201f11-cc84-48d9-9c2f-996d921d563b",
   "metadata": {},
   "outputs": [
    {
     "data": {
      "text/plain": [
       "array([False,  True,  True,  True,  True])"
      ]
     },
     "execution_count": 17,
     "metadata": {},
     "output_type": "execute_result"
    }
   ],
   "source": [
    "arr = np.array([\"0\", \"1\", \"2\", \"3\", \"3\"])\n",
    "arr.astype(np.bool_)"
   ]
  },
  {
   "cell_type": "code",
   "execution_count": 19,
   "id": "cb07f04a-fba4-4d85-b5c6-b695e83c0fc2",
   "metadata": {},
   "outputs": [
    {
     "data": {
      "text/plain": [
       "array([0, 1, 2, 3, 3], dtype=int64)"
      ]
     },
     "execution_count": 19,
     "metadata": {},
     "output_type": "execute_result"
    }
   ],
   "source": [
    "arr.astype(np.int64)"
   ]
  },
  {
   "cell_type": "code",
   "execution_count": 20,
   "id": "0a2e2da1-6608-43ed-af38-e956861faace",
   "metadata": {},
   "outputs": [
    {
     "data": {
      "text/plain": [
       "array([0., 1., 2., 3., 3.])"
      ]
     },
     "execution_count": 20,
     "metadata": {},
     "output_type": "execute_result"
    }
   ],
   "source": [
    "arr.astype(np.float64)"
   ]
  },
  {
   "cell_type": "code",
   "execution_count": 21,
   "id": "9638e311-2d54-443e-b0d6-82384b410182",
   "metadata": {},
   "outputs": [
    {
     "data": {
      "text/plain": [
       "array(['0', '1', '2', '3', '3'], dtype='<U1')"
      ]
     },
     "execution_count": 21,
     "metadata": {},
     "output_type": "execute_result"
    }
   ],
   "source": [
    "arr"
   ]
  },
  {
   "cell_type": "code",
   "execution_count": null,
   "id": "371bd89b-a49f-45d3-acda-5d613ae120cf",
   "metadata": {},
   "outputs": [],
   "source": []
  }
 ],
 "metadata": {
  "kernelspec": {
   "display_name": "Python 3 (ipykernel)",
   "language": "python",
   "name": "python3"
  },
  "language_info": {
   "codemirror_mode": {
    "name": "ipython",
    "version": 3
   },
   "file_extension": ".py",
   "mimetype": "text/x-python",
   "name": "python",
   "nbconvert_exporter": "python",
   "pygments_lexer": "ipython3",
   "version": "3.9.12"
  }
 },
 "nbformat": 4,
 "nbformat_minor": 5
}
