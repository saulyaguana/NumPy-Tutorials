{
 "cells": [
  {
   "cell_type": "code",
   "execution_count": 2,
   "id": "d35db40a-bf8f-46f1-af41-2aa405b6d79e",
   "metadata": {},
   "outputs": [],
   "source": [
    "import numpy as np"
   ]
  },
  {
   "cell_type": "code",
   "execution_count": 4,
   "id": "84e87237-7d6b-4d18-9bb5-e25147c27a3b",
   "metadata": {},
   "outputs": [
    {
     "data": {
      "text/plain": [
       "[1, 2, 3, 4, 5, 6, 7, 8, 9, 10]"
      ]
     },
     "execution_count": 4,
     "metadata": {},
     "output_type": "execute_result"
    }
   ],
   "source": [
    "list(range(1, 11))"
   ]
  },
  {
   "cell_type": "code",
   "execution_count": 5,
   "id": "601ce9e0-aef5-4b78-ae4a-58ba11de6df3",
   "metadata": {},
   "outputs": [
    {
     "data": {
      "text/plain": [
       "array([ 0,  1,  2,  3,  4,  5,  6,  7,  8,  9, 10])"
      ]
     },
     "execution_count": 5,
     "metadata": {},
     "output_type": "execute_result"
    }
   ],
   "source": [
    "np.arange(11)"
   ]
  },
  {
   "cell_type": "code",
   "execution_count": 7,
   "id": "036da729-8072-4495-8596-b7f589e5284c",
   "metadata": {},
   "outputs": [
    {
     "data": {
      "text/plain": [
       "array([ 2,  4,  6,  8, 10, 12, 14, 16, 18, 20])"
      ]
     },
     "execution_count": 7,
     "metadata": {},
     "output_type": "execute_result"
    }
   ],
   "source": [
    "np.arange(2, 21, 2)"
   ]
  },
  {
   "cell_type": "code",
   "execution_count": 8,
   "id": "52ff60d7-4165-44fb-8a49-ad3d1a14bfc9",
   "metadata": {},
   "outputs": [
    {
     "data": {
      "text/plain": [
       "array([0., 0., 0., 0.])"
      ]
     },
     "execution_count": 8,
     "metadata": {},
     "output_type": "execute_result"
    }
   ],
   "source": [
    "np.zeros(4)"
   ]
  },
  {
   "cell_type": "code",
   "execution_count": 9,
   "id": "ea538520-2efb-4a9a-8134-aa1f43e44133",
   "metadata": {},
   "outputs": [
    {
     "data": {
      "text/plain": [
       "array([[0., 0., 0., 0., 0.],\n",
       "       [0., 0., 0., 0., 0.],\n",
       "       [0., 0., 0., 0., 0.],\n",
       "       [0., 0., 0., 0., 0.]])"
      ]
     },
     "execution_count": 9,
     "metadata": {},
     "output_type": "execute_result"
    }
   ],
   "source": [
    "np.zeros((4, 5))"
   ]
  },
  {
   "cell_type": "code",
   "execution_count": 10,
   "id": "a6164995-bff2-469a-b4b4-190a6b636e49",
   "metadata": {},
   "outputs": [
    {
     "data": {
      "text/plain": [
       "array([1., 1., 1., 1.])"
      ]
     },
     "execution_count": 10,
     "metadata": {},
     "output_type": "execute_result"
    }
   ],
   "source": [
    "np.ones(4)"
   ]
  },
  {
   "cell_type": "code",
   "execution_count": 11,
   "id": "92006973-7ffd-4318-b4c8-d0b9f1c587cd",
   "metadata": {},
   "outputs": [
    {
     "data": {
      "text/plain": [
       "array([[1., 1., 1., 1., 1., 1., 1., 1.],\n",
       "       [1., 1., 1., 1., 1., 1., 1., 1.],\n",
       "       [1., 1., 1., 1., 1., 1., 1., 1.],\n",
       "       [1., 1., 1., 1., 1., 1., 1., 1.],\n",
       "       [1., 1., 1., 1., 1., 1., 1., 1.],\n",
       "       [1., 1., 1., 1., 1., 1., 1., 1.]])"
      ]
     },
     "execution_count": 11,
     "metadata": {},
     "output_type": "execute_result"
    }
   ],
   "source": [
    "np.ones((6, 8))"
   ]
  },
  {
   "cell_type": "code",
   "execution_count": 21,
   "id": "1b3a12e9-06b1-4839-b324-79d7ed89dd56",
   "metadata": {},
   "outputs": [
    {
     "data": {
      "text/plain": [
       "array([ 0.,  1.,  2.,  3.,  4.,  5.,  6.,  7.,  8.,  9., 10.])"
      ]
     },
     "execution_count": 21,
     "metadata": {},
     "output_type": "execute_result"
    }
   ],
   "source": [
    "np.linspace(0, 10, 11)"
   ]
  },
  {
   "cell_type": "code",
   "execution_count": 22,
   "id": "bf15efae-e43e-492d-bd0c-2298feb9bded",
   "metadata": {},
   "outputs": [
    {
     "data": {
      "text/plain": [
       "array([[1., 0., 0., 0.],\n",
       "       [0., 1., 0., 0.],\n",
       "       [0., 0., 1., 0.],\n",
       "       [0., 0., 0., 1.]])"
      ]
     },
     "execution_count": 22,
     "metadata": {},
     "output_type": "execute_result"
    }
   ],
   "source": [
    "np.eye(4)"
   ]
  },
  {
   "cell_type": "code",
   "execution_count": 24,
   "id": "cb9972a4-99e4-4d51-b133-71337dd6a7bb",
   "metadata": {},
   "outputs": [
    {
     "data": {
      "text/plain": [
       "0.4953292979391436"
      ]
     },
     "execution_count": 24,
     "metadata": {},
     "output_type": "execute_result"
    }
   ],
   "source": [
    "np.random.rand()"
   ]
  },
  {
   "cell_type": "code",
   "execution_count": 25,
   "id": "72439653-6892-4a70-bfbe-37f05741fddc",
   "metadata": {},
   "outputs": [
    {
     "data": {
      "text/plain": [
       "array([0.66358791, 0.50122794, 0.55329141, 0.87666117])"
      ]
     },
     "execution_count": 25,
     "metadata": {},
     "output_type": "execute_result"
    }
   ],
   "source": [
    "np.random.rand(4)"
   ]
  },
  {
   "cell_type": "code",
   "execution_count": 27,
   "id": "9bc138c5-73ea-4f16-b406-3793a579a85f",
   "metadata": {},
   "outputs": [
    {
     "data": {
      "text/plain": [
       "array([[0.31404927, 0.40420832, 0.27935231, 0.74988008, 0.47452518],\n",
       "       [0.63671235, 0.80225041, 0.31671803, 0.78704261, 0.4917745 ],\n",
       "       [0.16641461, 0.66401285, 0.59593134, 0.74076213, 0.15030798],\n",
       "       [0.71066754, 0.88195807, 0.15895682, 0.5216757 , 0.20963389]])"
      ]
     },
     "execution_count": 27,
     "metadata": {},
     "output_type": "execute_result"
    }
   ],
   "source": [
    "np.random.rand(4, 5)"
   ]
  },
  {
   "cell_type": "code",
   "execution_count": 56,
   "id": "7549d4f6-da73-49a5-bead-d0d45cd6c324",
   "metadata": {},
   "outputs": [
    {
     "data": {
      "text/plain": [
       "5"
      ]
     },
     "execution_count": 56,
     "metadata": {},
     "output_type": "execute_result"
    }
   ],
   "source": [
    "np.random.randint(4, 6)"
   ]
  },
  {
   "cell_type": "code",
   "execution_count": 58,
   "id": "424b3587-2be2-4c10-97c7-aeeea88007ac",
   "metadata": {},
   "outputs": [
    {
     "data": {
      "text/plain": [
       "array([ 2, 86, 59, 28, 96, 72, 35, 28, 38, 40])"
      ]
     },
     "execution_count": 58,
     "metadata": {},
     "output_type": "execute_result"
    }
   ],
   "source": [
    "np.random.randint(1, 100, 10)"
   ]
  },
  {
   "cell_type": "code",
   "execution_count": 65,
   "id": "27ac8689-09c8-431a-9a61-c09ead51da37",
   "metadata": {},
   "outputs": [
    {
     "data": {
      "text/plain": [
       "array([[27, 78, 46, 61, 28, 25, 61],\n",
       "       [24, 73, 84, 62, 26, 37,  4],\n",
       "       [82, 63, 70, 65, 65, 59, 14],\n",
       "       [85, 43, 23, 40, 93, 10, 10],\n",
       "       [79, 74, 39, 59, 18, 25,  2],\n",
       "       [35, 33, 37, 75, 49, 88, 14],\n",
       "       [84, 51, 66, 58, 65, 28, 71],\n",
       "       [65, 52, 99, 58, 77, 35,  5],\n",
       "       [60, 39, 73, 92, 17, 22, 64],\n",
       "       [61, 26, 97, 74, 20, 48, 53]])"
      ]
     },
     "execution_count": 65,
     "metadata": {},
     "output_type": "execute_result"
    }
   ],
   "source": [
    "np.random.randint(1, 100, (10, 7))"
   ]
  },
  {
   "cell_type": "code",
   "execution_count": 68,
   "id": "1dd269db-0f3b-4e76-a309-4a0d6465cf09",
   "metadata": {},
   "outputs": [
    {
     "data": {
      "text/plain": [
       "array([[[22, 12],\n",
       "        [23,  8],\n",
       "        [18, 35]],\n",
       "\n",
       "       [[ 8,  7],\n",
       "        [22,  2],\n",
       "        [10, 18]],\n",
       "\n",
       "       [[19, 40],\n",
       "        [ 7, 32],\n",
       "        [41, 49]],\n",
       "\n",
       "       [[16, 36],\n",
       "        [47, 26],\n",
       "        [10, 45]]])"
      ]
     },
     "execution_count": 68,
     "metadata": {},
     "output_type": "execute_result"
    }
   ],
   "source": [
    "np.random.randint(1, 50, (4, 3, 2))"
   ]
  }
 ],
 "metadata": {
  "kernelspec": {
   "display_name": "Python 3 (ipykernel)",
   "language": "python",
   "name": "python3"
  },
  "language_info": {
   "codemirror_mode": {
    "name": "ipython",
    "version": 3
   },
   "file_extension": ".py",
   "mimetype": "text/x-python",
   "name": "python",
   "nbconvert_exporter": "python",
   "pygments_lexer": "ipython3",
   "version": "3.9.12"
  }
 },
 "nbformat": 4,
 "nbformat_minor": 5
}
