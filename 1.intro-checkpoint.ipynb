{
 "cells": [
  {
   "cell_type": "markdown",
   "id": "2be97dba-1a94-4494-96a6-4548fb0af8aa",
   "metadata": {},
   "source": [
    "# Por qué Numpy y Pandas?"
   ]
  },
  {
   "cell_type": "markdown",
   "id": "298d92ca-cd20-4a81-9381-6d4d6cfafa5c",
   "metadata": {},
   "source": [
    "## NumPy\n",
    "\n",
    "+ Es una librería para el cálculo numérico y manejo de arrays\n",
    "+ Numpy es muy veloz, es hasta 50 veces más rápida que una lista propia de Python o de C\n",
    "+ Optimiza mucho el almacenamiento en memoria, lo que ayuda a la velocidad y a cuidar los recursos\n",
    "\n",
    "## Pandas\n",
    "\n",
    "+ Está orientado hacia la manipulación y análisis de datos\n",
    "+ Pandas usa Numpy como core y lleva todas sus ventajas, hereda las ventajas de Numpy\n",
    "+ Tiene alineación inteligente, ordena los datos de manera adecuada de forma automática"
   ]
  },
  {
   "cell_type": "code",
   "execution_count": null,
   "id": "74544f9e-2ab9-4236-8585-c535afe0b202",
   "metadata": {},
   "outputs": [],
   "source": []
  }
 ],
 "metadata": {
  "kernelspec": {
   "display_name": "Python 3 (ipykernel)",
   "language": "python",
   "name": "python3"
  },
  "language_info": {
   "codemirror_mode": {
    "name": "ipython",
    "version": 3
   },
   "file_extension": ".py",
   "mimetype": "text/x-python",
   "name": "python",
   "nbconvert_exporter": "python",
   "pygments_lexer": "ipython3",
   "version": "3.9.12"
  }
 },
 "nbformat": 4,
 "nbformat_minor": 5
}
